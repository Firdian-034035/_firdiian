{
 "cells": [
  {
   "cell_type": "code",
   "execution_count": 24,
   "metadata": {},
   "outputs": [
    {
     "name": "stdout",
     "output_type": "stream",
     "text": [
      "the blood type is O\n"
     ]
    }
   ],
   "source": [
    "# Agglutinogen is any antigen, or foreign cell, toxin, bacteria, or anything else that gets the immune system reacting, that makes your body generate agglutinins.\n",
    "# Agglutinin is a specific type of antibody. An antibody is a protein that helps recognize invaders\n",
    "agglutinogenA = False\n",
    "agglutinogenB = False\n",
    "agglutininα = True\n",
    "agglutininβ = True\n",
    "\n",
    "\n",
    "if agglutinogenA == True: # exectute this line if agglutinogen A is True \n",
    "    if agglutinogenB == True: # exectute this line if agglutinogen A is True and agglutinogen B is True \n",
    "        if agglutininα == True:\n",
    "            print('no suitable blood type')\n",
    "        elif agglutininα == False:\n",
    "            print('the blood type is AB')\n",
    "        elif agglutininβ == True:\n",
    "            print('no suitable blood type')\n",
    "        else:\n",
    "            print('the blood type is AB')\n",
    "    else: # exectute this line if agglutinogen A is True and agglutinogen B is False\n",
    "        if agglutininα == True:\n",
    "            print('no suitable blood type')\n",
    "        elif agglutininα == False:\n",
    "            print('no suitable blood type')\n",
    "        elif agglutininβ == True:\n",
    "            print('the blood type is A')\n",
    "        else:\n",
    "            print('no suitable blood type')\n",
    "elif agglutininα == True:\n",
    "    if agglutininβ == True:\n",
    "        print('the blood type is O') # in condition if agglutinogen A and agglutinogen B aren't available\n",
    "    else:\n",
    "        print('no suitable blood type') # in condition if agglutinogen A and agglutinogen B aren't available\n",
    "else: # exectute this line if agglutinogen A is False\n",
    "    if agglutinogenB == True: # exectute this line if agglutinogen A is False and agglutinogen B is True \n",
    "        if agglutininα == True:\n",
    "            print('the blood type is B')\n",
    "        elif agglutininα == False:\n",
    "            print('no suitable blood type')\n",
    "        elif agglutininβ == True:\n",
    "            print('no suitable blood type')\n",
    "        else:\n",
    "            print('no suitable blood type')\n",
    "    else: # exectute this line if agglutinogen A is False and agglutinogen B is False\n",
    "        if agglutininα == True:\n",
    "            print('possible the blood type is O')\n",
    "        elif agglutininα == False:\n",
    "            print('no suitable blood type')\n",
    "        elif agglutininβ == True:\n",
    "            print('Possible the blood type is O')\n",
    "        else:\n",
    "            print('no suitable blood type')\n",
    "        "
   ]
  },
  {
   "cell_type": "code",
   "execution_count": null,
   "metadata": {},
   "outputs": [],
   "source": []
  }
 ],
 "metadata": {
  "kernelspec": {
   "display_name": "Python 3",
   "language": "python",
   "name": "python3"
  },
  "language_info": {
   "codemirror_mode": {
    "name": "ipython",
    "version": 3
   },
   "file_extension": ".py",
   "mimetype": "text/x-python",
   "name": "python",
   "nbconvert_exporter": "python",
   "pygments_lexer": "ipython3",
   "version": "3.7.4"
  }
 },
 "nbformat": 4,
 "nbformat_minor": 2
}
